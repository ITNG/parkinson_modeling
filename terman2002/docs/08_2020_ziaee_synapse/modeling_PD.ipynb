{
 "cells": [
  {
   "cell_type": "markdown",
   "metadata": {},
   "source": [
    "# Modeling Parkinson Disease\n",
    "\n",
    "## Requirements\n",
    "#### Chemical Synapse\n",
    "-  Nearly Instantaneous Rise\n",
    "-  Gradual Rise\n",
    "\n",
    "#### Short-Term Depression and Facilitation\n",
    "-  STP\n",
    "-  STF\n",
    "#### Spike Timing Dependent Plasticity (STDP)\n",
    "-  Song Abbott Model\n",
    "\n",
    "## Modeling Basal Ganglia\n",
    "-  Terman 2002, Rubin and Terman 2004"
   ]
  },
  {
   "cell_type": "markdown",
   "metadata": {},
   "source": [
    "### Chamical Synapse\n",
    "-  Nearly Instantaneus Rise:\n",
    "\\begin{align}\n",
    "I_{syn} & = g_{syn}(t)(v_{rev}-v_{post}\\\\\n",
    "g_{syn} &= \\bar{g}_{syn} s(t)\\\\\n",
    "\\frac{ds}{dt}&= \\frac{1+tanh(v/10)}{2}\\frac{1-s}{\\tau_r}-\\frac{s}{\\tau_d}\n",
    "\\end{align}\n",
    "\n",
    "\n",
    "<!-- \\begin{align}\n",
    "\\begin{split}\\label{eq:1}\n",
    "    a ={}& b + c + d\\\\\n",
    "         & + e + f + g\n",
    "\\end{split}\\\\\n",
    "\\begin{split}\\label{eq:2}\n",
    "    k ={}& l + m + n + m + n + m + n\\\\\n",
    "         & + o + p + q\n",
    "\\end{split}\\\\\n",
    "    r ={}& s + t (u + v + w)\\label{eq:3}\n",
    "\\end{align} -->"
   ]
  },
  {
   "cell_type": "code",
   "execution_count": 1,
   "metadata": {},
   "outputs": [],
   "source": [
    "from scipy.integrate import odeint\n",
    "import numpy as np\n",
    "from numpy import exp\n",
    "import pylab as pl\n",
    "\n",
    "def alpha_h(v): return 0.128 * exp(-(v + 50.0) / 18.0)\n",
    "def alpha_m(v): return 0.32 * (v + 54) / (1.0 - exp(-(v + 54.0) / 4.0))\n",
    "def alpha_n(v): return 0.032 * (v + 52) / (1.0 - exp(-(v + 52.0) / 5.0))\n",
    "def beta_h(v):  return 4.0 / (1.0 + exp(-(v + 27.0) / 5.0))\n",
    "def beta_m(v):  return 0.28 * (v + 27.0) / (exp((v + 27.0) / 5.0) - 1.0)\n",
    "def beta_n(v):  return 0.5 * exp(-(v + 57.0) / 40.0)\n",
    "def h_inf(v):   return alpha_h(v) / (alpha_h(v) + beta_h(v))\n",
    "def m_inf(v):   return alpha_m(v) / (alpha_m(v) + beta_m(v))\n",
    "def n_inf(v):   return alpha_n(v) / (alpha_n(v) + beta_n(v))\n",
    "\n"
   ]
  },
  {
   "cell_type": "code",
   "execution_count": 2,
   "metadata": {},
   "outputs": [
    {
     "data": {
      "image/png": "[encoded data removed]",
      "text/plain": [
       "<Figure size 504x360 with 3 Axes>"
      ]
     },
     "metadata": {
      "needs_background": "light"
     },
     "output_type": "display_data"
    }
   ],
   "source": [
    "def derivative(x0, t):\n",
    "    '''\n",
    "    define Traub Model\n",
    "    '''\n",
    "    v, m, n, h, s = x0\n",
    "    dv = i_ext - g_na * h * m ** 3 * \\\n",
    "        (v - v_na) - g_k * n ** 4 * (v - v_k) - g_l * (v - v_l)\n",
    "    dm = alpha_m(v) * (1.0 - m) - beta_m(v) * m\n",
    "    dn = alpha_n(v) * (1.0 - n) - beta_n(v) * n\n",
    "    dh = alpha_h(v) * (1.0 - h) - beta_h(v) * h\n",
    "    ds = 0.5 * (1.0+np.tanh(0.1 * v)) * (1-s)/tau_r - s/tau_d\n",
    "\n",
    "    return [dv, dm, dn, dh, ds]\n",
    "\n",
    "def initial_condition(v):\n",
    "    m = m_inf(v)\n",
    "    h = h_inf(v)\n",
    "    n = n_inf(v)\n",
    "    s = 0.0\n",
    "    return [v, m, n, h, s]\n",
    "\n",
    "c = 1\n",
    "g_k = 80.0\n",
    "g_na = 100.0\n",
    "g_l = 0.1\n",
    "v_k = -100.0\n",
    "v_na = 50.0\n",
    "v_l = -67.0\n",
    "i_ext = 1.5\n",
    "t_final = 100.0\n",
    "dt = 0.01\n",
    "v = -70.0\n",
    "\n",
    "tau_d = 2.0\n",
    "tau_r = 0.2\n",
    "x0 = initial_condition(v)\n",
    "t = np.arange(0, t_final, dt)\n",
    "sol = odeint(derivative, x0, t)\n",
    "V = sol[:, 0]\n",
    "S1 = sol[:, -1]\n",
    "\n",
    "# --------------------------------------------------------------#\n",
    "tau_r = 1.0\n",
    "sol = odeint(derivative, x0, t)\n",
    "S2 = sol[:, -1]\n",
    "\n",
    "fig, ax = pl.subplots(3, figsize=(7, 5), sharex=True)\n",
    "ax[0].plot(t, V, lw=2, c=\"k\")\n",
    "ax[1].plot(t, S1, lw=2, c=\"k\")\n",
    "ax[2].plot(t, S2, lw=2, c=\"k\")\n",
    "\n",
    "ax[0].set_xlim(min(t), max(t))\n",
    "ax[0].set_ylim(-100, 100)\n",
    "ax[1].set_ylim([0, 1])\n",
    "ax[2].set_ylim([0, 1])\n",
    "ax[2].set_xlabel(\"time [ms]\", fontsize=14)\n",
    "ax[0].set_ylabel(\"v [mV]\", fontsize=14)\n",
    "ax[1].set_ylabel(\"s\", fontsize=14)\n",
    "ax[2].set_ylabel(\"s\", fontsize=14)\n",
    "ax[0].set_yticks([-100, 0, 100])\n",
    "ax[1].set_yticks([0, 0.5, 1])\n",
    "ax[2].set_yticks([0, 0.5, 1])\n",
    "\n",
    "ax[1].set_title(r\"$\\tau_r=${}\".format(0.2))\n",
    "ax[2].set_title(r\"$\\tau_r=${}\".format(1))\n",
    "pl.tight_layout()\n",
    "pl.show()"
   ]
  },
  {
   "cell_type": "markdown",
   "metadata": {},
   "source": [
    "-  Gradual Rise\n",
    "\\begin{align}\n",
    "I_{syn} & = \\bar{g}_{syn}s(t)(v_{rev}-v_{post})\\\\\n",
    "\\frac{dq}{dt} &= \\frac{1+tanh(v/10)}{2}\\frac{1-q}{\\tau_{r,q}}-\\frac{q}{\\tau_{d,q}}\\\\\n",
    "\\frac{ds}{dt} &= q \\frac{1-s}{\\tau_r}-\\frac{s}{\\tau_d}\n",
    "\\end{align}\n",
    "\n",
    "We always choose $\\tau_{r,q}=0.1$ ms.\n",
    "$\\tau_d$ measures how fast s decays, and $\\tau_r$ measures how fast it rises initially.\n"
   ]
  },
  {
   "cell_type": "code",
   "execution_count": 3,
   "metadata": {},
   "outputs": [
    {
     "data": {
      "image/png": "[encoded data removed]",
      "text/plain": [
       "<Figure size 504x360 with 3 Axes>"
      ]
     },
     "metadata": {
      "needs_background": "light"
     },
     "output_type": "display_data"
    }
   ],
   "source": [
    "def derivative(x0, t):\n",
    "    '''\n",
    "    define Traub Model\n",
    "    '''\n",
    "    v, m, n, h, q, s = x0\n",
    "    dv = i_ext - g_na * h * m ** 3 * \\\n",
    "        (v - v_na) - g_k * n ** 4 * (v - v_k) - g_l * (v - v_l)\n",
    "    dm = alpha_m(v) * (1.0 - m) - beta_m(v) * m\n",
    "    dn = alpha_n(v) * (1.0 - n) - beta_n(v) * n\n",
    "    dh = alpha_h(v) * (1.0 - h) - beta_h(v) * h\n",
    "    dq = 0.5 * (1.0+np.tanh(0.1 * v)) * (1 - q) * 10.0 - q / tau_d_q\n",
    "    ds = q * (1 - s)/tau_r - s/tau_d\n",
    "\n",
    "    return [dv, dm, dn, dh, dq, ds]\n",
    "\n",
    "\n",
    "def initial_condition(v):\n",
    "    m = m_inf(v)\n",
    "    h = h_inf(v)\n",
    "    n = n_inf(v)\n",
    "    q = 0.0\n",
    "    s = 0.0\n",
    "    return [v, m, n, h, q, s]\n",
    "\n",
    "c = 1.0\n",
    "g_k = 80.0\n",
    "g_na = 100.0\n",
    "g_l = 0.1\n",
    "v_k = -100.0\n",
    "v_na = 50.0\n",
    "v_l = -67.0\n",
    "i_ext = 0.12\n",
    "t_final = 2000.0\n",
    "dt = 0.01\n",
    "v = -70.0\n",
    "\n",
    "tau_d = 300.0\n",
    "tau_r = 10.0\n",
    "tau_d_q = 10\n",
    "x0 = initial_condition(v)\n",
    "t = np.arange(0, t_final, dt)\n",
    "sol = odeint(derivative, x0, t)\n",
    "V = sol[:, 0]\n",
    "S1 = sol[:, -1]\n",
    "\n",
    "# --------------------------------------------------------------#\n",
    "tau_d = 300.0\n",
    "tau_r = 100.0\n",
    "tau_d_q = 100.0\n",
    "sol = odeint(derivative, x0, t)\n",
    "S2 = sol[:, -1]\n",
    "\n",
    "fig, ax = pl.subplots(3, figsize=(7, 5), sharex=True)\n",
    "ax[0].plot(t, V, lw=2, c=\"k\")\n",
    "ax[1].plot(t, S1, lw=2, c=\"k\")\n",
    "ax[2].plot(t, S2, lw=2, c=\"k\")\n",
    "\n",
    "ax[0].set_xlim(min(t), max(t))\n",
    "ax[0].set_ylim(-100, 100)\n",
    "ax[1].set_ylim([0, 1])\n",
    "ax[2].set_ylim([0, 1])\n",
    "ax[2].set_xlabel(\"time [ms]\", fontsize=14)\n",
    "ax[0].set_ylabel(\"v [mV]\", fontsize=14)\n",
    "ax[1].set_ylabel(\"s\", fontsize=14)\n",
    "ax[2].set_ylabel(\"s\", fontsize=14)\n",
    "ax[0].set_yticks([-100, 0, 100])\n",
    "ax[1].set_yticks([0, 0.5, 1])\n",
    "ax[2].set_yticks([0, 0.5, 1])\n",
    "\n",
    "ax[1].set_title(r\"$\\tau_d=300 ms, \\tau_r=10 ms, \\tau_{d,q}$=10 ms\")\n",
    "ax[2].set_title(r\"$\\tau_d=300 ms, \\tau_r=100 ms, \\tau_{d,q}$=100 ms\")\n",
    "\n",
    "pl.tight_layout()\n",
    "pl.show()"
   ]
  },
  {
   "cell_type": "code",
   "execution_count": 4,
   "metadata": {},
   "outputs": [],
   "source": [
    "def tau_peak_function(tau_d, tau_r, tau_d_q):\n",
    "\n",
    "    dt = 0.01\n",
    "    dt05 = 0.5 * dt\n",
    "\n",
    "    s = 0\n",
    "    t = 0\n",
    "    s_inc = exp(-t / tau_d_q) * (1.0 - s) / tau_r - s * tau_d\n",
    "    while s_inc > 0:\n",
    "        t_old = t\n",
    "        s_inc_old = s_inc\n",
    "        s_tmp = s + dt05 * s_inc\n",
    "        s_inc_tmp = exp(-(t + dt05) / tau_d_q) * (1.0 - s_tmp) / tau_r - s_tmp / tau_d\n",
    "        s = s + dt * s_inc_tmp\n",
    "        t = t + dt\n",
    "        s_inc = exp(-t / tau_d_q) * (1.0 - s) / tau_r - s / tau_d\n",
    "    \n",
    "    return (t_old * (-s_inc) + t * s_inc_old) / (s_inc_old - s_inc)\n",
    "\n",
    "\n",
    "def tau_d_q_function(tau_d, tau_r, tau_hat):\n",
    "    \n",
    "    # set an interval for tau_d_q\n",
    "    tau_d_q_left = 1.0\n",
    "    while tau_peak_function(tau_d, tau_r, tau_d_q_left) > tau_hat:\n",
    "        tau_d_q_left *= 0.5\n",
    "    \n",
    "    tau_d_q_right = tau_r\n",
    "    while tau_peak_function(tau_d, tau_r, tau_d_q_right) < tau_hat:\n",
    "        tau_d_q_right *= 2.0\n",
    "\n",
    "    # bisection method\n",
    "    while tau_d_q_right - tau_d_q_left > 1e-12:\n",
    "        tau_d_q_mid = 0.5 * (tau_d_q_left + tau_d_q_right)\n",
    "        if (tau_peak_function(tau_d, tau_r, tau_d_q_mid) <= tau_hat):\n",
    "            tau_d_q_left = tau_d_q_mid\n",
    "        else:\n",
    "            tau_d_q_right = tau_d_q_mid\n",
    "\n",
    "    return 0.5 * (tau_d_q_left + tau_d_q_right)"
   ]
  },
  {
   "cell_type": "code",
   "execution_count": 5,
   "metadata": {},
   "outputs": [
    {
     "name": "stdout",
     "output_type": "stream",
     "text": [
      "5.1144654185742695\n",
      "107.03619878043985\n"
     ]
    },
    {
     "data": {
      "image/png": "[encoded data removed]",
      "text/plain": [
       "<Figure size 504x360 with 3 Axes>"
      ]
     },
     "metadata": {
      "needs_background": "light"
     },
     "output_type": "display_data"
    }
   ],
   "source": [
    "c = 1.0\n",
    "g_k = 80.0\n",
    "g_na = 100.0\n",
    "g_l = 0.1\n",
    "v_k = -100.0\n",
    "v_na = 50.0\n",
    "v_l = -67.0\n",
    "i_ext = 0.12\n",
    "t_final = 2000.0\n",
    "dt = 0.01\n",
    "v = -70.0\n",
    "\n",
    "tau_d = 300.0\n",
    "tau_r = 10.0\n",
    "tau_peak = 20.0\n",
    "tau_d_q = tau_d_q_function(tau_d, tau_r, tau_peak)\n",
    "print (tau_d_q)\n",
    "\n",
    "x0 = initial_condition(v)\n",
    "t = np.arange(0, t_final, dt)\n",
    "sol = odeint(derivative, x0, t)\n",
    "V = sol[:, 0]\n",
    "S1 = sol[:, -1]\n",
    "\n",
    "# --------------------------------------------------------------#\n",
    "tau_r = 100.0\n",
    "tau_d = 300.0\n",
    "tau_peak = 150.0\n",
    "tau_d_q = tau_d_q_function(tau_d, tau_r, tau_peak)\n",
    "print (tau_d_q)\n",
    "\n",
    "sol = odeint(derivative, x0, t)\n",
    "S2 = sol[:, -1]\n",
    "\n",
    "fig, ax = pl.subplots(3, figsize=(7, 5), sharex=True)\n",
    "ax[0].plot(t, V, lw=2, c=\"k\")\n",
    "ax[1].plot(t, S1, lw=2, c=\"k\")\n",
    "ax[2].plot(t, S2, lw=2, c=\"k\")\n",
    "\n",
    "ax[0].set_xlim(min(t), max(t))\n",
    "ax[0].set_ylim(-100, 100)\n",
    "ax[1].set_ylim([0, 1])\n",
    "ax[2].set_ylim([0, 1])\n",
    "ax[2].set_xlabel(\"time [ms]\", fontsize=14)\n",
    "ax[0].set_ylabel(\"v [mV]\", fontsize=14)\n",
    "ax[1].set_ylabel(\"s\", fontsize=14)\n",
    "ax[2].set_ylabel(\"s\", fontsize=14)\n",
    "ax[0].set_yticks([-100, 0, 100])\n",
    "ax[1].set_yticks([0, 0.5, 1])\n",
    "ax[2].set_yticks([0, 0.5, 1])\n",
    "\n",
    "ax[1].set_title(r\"$\\tau_d=300 ms, \\tau_r=10 ms, \\tau_{d,q}$=10 ms\")\n",
    "ax[2].set_title(r\"$\\tau_d=300 ms, \\tau_r=100 ms, \\tau_{d,q}$=100 ms\")\n",
    "\n",
    "pl.tight_layout()\n",
    "pl.show()"
   ]
  },
  {
   "cell_type": "markdown",
   "metadata": {},
   "source": [
    "![](fig_20_8.png)\n",
    "Buildup of the synaptic gating variable s over several action\n",
    "potentials. The upper panel shows the voltage trace of an RTM neuron firing with period $T \\approx 74.5$ ms. The lower panel shows the time evolution of $s$, with $\\tau_r = 10$ ms, $\\tau_{d,q}5$ ms, $\\tau_d = 300$."
   ]
  },
  {
   "cell_type": "markdown",
   "metadata": {},
   "source": [
    "![](fig_20_9.png)\n",
    "Analogous to upper figure, but with $\\tau_r = 100$ 100 ms, $\\tau_d=1$ 1 ms, $\\tau_d = 500$ ms."
   ]
  },
  {
   "cell_type": "markdown",
   "metadata": {},
   "source": [
    "### NEST implementation"
   ]
  },
  {
   "cell_type": "markdown",
   "metadata": {},
   "source": [
    "![](ampa_coupled.png)"
   ]
  },
  {
   "cell_type": "markdown",
   "metadata": {},
   "source": [
    "## Short-Term Depression and Facilitation\n",
    "### The Tsodyks-Markram Model of Short-Term Depression"
   ]
  },
  {
   "cell_type": "markdown",
   "metadata": {},
   "source": [
    "\\begin{align}\n",
    "\\frac{dp}{dt} & = \\frac{1-p-q}{\\tau_{rec}}-C(1+tanh\\frac{v}{10})p \\ln(\\frac{1}{1-U}) \\\\\n",
    "\\frac{dq}{dt} & = - \\frac{q}{\\tau_{d,q}}+ C(1+tanh\\frac{v}{10})p \\ln(\\frac{1}{1-U}) \\\\\n",
    "\\frac{ds}{dt} & = q \\frac{1-s}{\\tau_r}-\\frac{s}{\\tau_d}\n",
    "\\end{align}\n",
    "\n",
    "The variable $p$ represents the fraction of neurotransmitter that is available for release, $q$ is the fraction that is active in the synaptic cleft, and $r$ is the fraction that is \"inactive,\" i.e., has been removed from the synaptic cleft, and is in the process of being transported back to the pre-synaptic terminal."
   ]
  },
  {
   "cell_type": "markdown",
   "metadata": {},
   "source": [
    "![](fig_39_2.png)\n",
    "Voltage trace of a periodically firing RTM neuron ($I =0.5$) and the functions $p$, $q$, $s$. The parameters are $\\tau_{rec}$ = 500, $U$ =0.5, $\\tau_{d,q}=5$ ms, $\\tau_r = 0.5$ ms, $\\tau_d=3$."
   ]
  },
  {
   "cell_type": "markdown",
   "metadata": {},
   "source": [
    "The final form of our smoothed version of the Tsodyks-Markram model:"
   ]
  },
  {
   "cell_type": "markdown",
   "metadata": {},
   "source": [
    "\\begin{align}\n",
    "\\frac{dp}{dt} &= \\frac{1-p-q}{\\tau_{rec}}-C\\big( 1+tanh\\frac{v}{10} \\big) p W \\\\\n",
    "\\frac{dq}{dt} &= -\\frac{q}{\\tau_{d,q}} + C \\big( 1+tanh\\frac{v}{10} \\big) pW \\\\\n",
    "\\frac{ds}{dt} &= q \\frac{1-s}{\\tau_r} - \\frac{s}{\\tau_d}\\\\\n",
    "\\frac{dW}{dt} & = - \\frac{e^{W-W0}-1}{\\tau_{facil}} + C\\nu \\big( 1+tanh\\frac{v}{10} \\big)\\\\\n",
    "W0 &=\\ln \\frac{1}{1-U0}, \\hspace{1cm} \\nu = \\ln \\frac{1}{1-\\mu}\n",
    "\\end{align}"
   ]
  },
  {
   "cell_type": "markdown",
   "metadata": {},
   "source": [
    "![](fig_39_4.png)\n",
    "Voltage trace of a periodically firing RTM neuron ($I =0.5$),\n",
    "and the functions $p$, $q$, $s$,and $U =1 - e^{-W}$  The parameters are $\\tau_{rec}$= 300 ms, $\\tau_{facil}$ = 500 ms, $U_0$ =0.1, \\$mu$ =0.2, $\\tau_{d,q}$=5, $\\tau_r$=0.5, $\\tau_d$=3, $C$ =1.45."
   ]
  },
  {
   "cell_type": "markdown",
   "metadata": {},
   "source": [
    "### STDP"
   ]
  },
  {
   "cell_type": "markdown",
   "metadata": {},
   "source": [
    "![](stdp.jpeg)"
   ]
  },
  {
   "cell_type": "markdown",
   "metadata": {},
   "source": [
    "# STN CELL"
   ]
  },
  {
   "cell_type": "markdown",
   "metadata": {},
   "source": [
    "\\begin{align}\n",
    "C_m \\frac{dv}{dt} &= -(I_L + I_K + I_{Na}+I_T+I_{Ca}+I_{AHP})-I_{G\\rightarrow S}\\\\ \n",
    "I_L & = g_L(v-v_L) \\\\\n",
    "I_K & = g_K n^4 (v-v_K) \\\\\n",
    "I_{Na} &= g_{Na} m_{\\infty}^3(v) (v-v_{Na})\\\\\n",
    "I_T &= g_T a_{\\infty}^3(v) b_{\\infty}^2 (r) (v-v_{Ca})\\\\\n",
    "I_{Ca} &= g_{Ca} s_{\\infty}^2(v) (v-v_{Ca})\\\\\n",
    "I_{AHP} &= g_{AHP}(v-v_k)([Ca]/([Ca]+k_1))\\\\\n",
    "I_{G\\rightarrow S} &= g_{G\\rightarrow S} (v-v_{G\\rightarrow S}) \\sum s_j\n",
    "\\end{align}\n",
    "\n",
    "-  Gating variables\n",
    "\n",
    "\\begin{align}\n",
    "\\frac{dX}{dt} &= \\phi_X \\frac{X_{\\infty}(v) - X}{\\tau_X(v)}\\\\\n",
    "\\tau_X (v) &= \\tau_X^0 + \\tau_X^1 / \\big[ 1+\\exp(-(v-\\theta_X^{\\tau})/\\sigma_X^{\\tau}) \\big] \\hspace{1cm} (X:n, h, r)\n",
    "\\end{align}\n",
    "steady state of $X=n,m,h,a,r,s$ are:\n",
    "$$\n",
    "X_{\\infty}(v) = \\frac{1}{1+\\exp[-(v-\\theta_X)/\\sigma_X]}\n",
    "$$\n",
    "for $T$ current:\n",
    "$$\n",
    "b_{\\infty}(r) = \\frac{1}{1+\\exp[(r-\\theta_b)(\\sigma_b)]}-\\frac{1}{1+\\exp[-\\theta_b/\\sigma_b]}\n",
    "$$"
   ]
  },
  {
   "cell_type": "markdown",
   "metadata": {},
   "source": [
    "# GPe CELL"
   ]
  },
  {
   "cell_type": "markdown",
   "metadata": {},
   "source": [
    "\\begin{align}\n",
    "C_m \\frac{dv}{dt} &= -(I_L + I_K + I_{Na}+I_T+I_{Ca}+I_{AHP})-I_{S\\rightarrow G}-I_{G\\rightarrow G} + I_{app}\\\\\n",
    "I_T &= g_T a_{\\infty}^3(v)r(v-v_{Ca})\n",
    "\\end{align}"
   ]
  },
  {
   "cell_type": "code",
   "execution_count": 6,
   "metadata": {},
   "outputs": [
    {
     "data": {
      "image/png": "[encoded data removed]",
      "text/plain": [
       "<Figure size 432x216 with 1 Axes>"
      ]
     },
     "metadata": {
      "needs_background": "light"
     },
     "output_type": "display_data"
    }
   ],
   "source": [
    "import numpy as np\n",
    "import pylab as plt\n",
    "from numpy import exp\n",
    "from scipy.integrate import odeint\n",
    "def sinf(v): return 1./(1.+exp(-(v-thetas)/sigmas))\n",
    "def minf(v): return 1./(1.+exp(-(v-thetam)/sigmam))\n",
    "def hinf(v): return 1./(1.+exp(-(v-thetah)/sigmah))\n",
    "def ninf(v): return 1./(1.+exp(-(v-thetan)/sigman))\n",
    "def ainf(v): return 1/(1+exp(-(v-thetaa)/sigmaa))\n",
    "def binf(r): return 1/(1+exp((r-thetab)/sigmab))-1/(1+exp(-thetab/sigmab))\n",
    "def rinf(v): return 1/(1+exp(-(v-thetar)/sigmar))\n",
    "def taun(v): return taun0+taun1/(1+exp(-(v-thn)/sigmant))\n",
    "def tauh(v): return tauh0+tauh1/(1+exp(-(v-thh)/sigmaht))\n",
    "def taur(v): return taur0+taur1/(1+exp(-(v-thr)/sigmart))\n",
    "\n",
    "def il(v): return gl * (v - vl)\n",
    "def ina(v, h): return gna * (minf(v)) ** 3 * h * (v - vna)\n",
    "def ik(v, n): return gk * n ** 4 * (v - vk)\n",
    "def iahp(v, ca): return gahp * ca / (ca + k1) * (v - vk)\n",
    "def ica(v): return gca * ((sinf(v)) ** 2) * (v - vca)\n",
    "def it(v, r): return gt * (ainf(v) ** 3) * (binf(r) ** 2) * (v - vca)\n",
    "\n",
    "\n",
    "def ode_sys(x0, t):\n",
    "\n",
    "    v, h, n, r, ca = x0\n",
    "\n",
    "    dv = -(il(v) + ina(v, h) + ik(v, n) +\n",
    "           iahp(v, ca) + ica(v) + it(v, r))  # - isyn\n",
    "    dh = phi * (hinf(v) - h) / tauh(v)\n",
    "    dn = phi * (ninf(v) - n) / taun(v)\n",
    "    dr = phir * (rinf(v) - r) / taur(v)\n",
    "    dca = eps * (-ica(v) - it(v, r) - kca * ca) # * phi\n",
    "    # ds = alpha * (1 - s) * sinf(v + ab) - beta * s\n",
    "\n",
    "    return [dv, dh, dn, dr, dca]\n",
    "\n",
    "\n",
    "def init(v):\n",
    "\n",
    "    h = hinf(v)\n",
    "    n = ninf(v)\n",
    "    r = rinf(v)\n",
    "    ca = 0\n",
    "    # s = 0\n",
    "\n",
    "    return [v, h, n, r, ca]\n",
    "\n",
    "\n",
    "vl = -60.\n",
    "vna = 55.\n",
    "vk = -80.\n",
    "thetam = -30\n",
    "sigmam = 15\n",
    "gl = 2.25\n",
    "gna = 37.5\n",
    "gk = 45.\n",
    "# tn = 1.\n",
    "# th = 0.05\n",
    "gahp = 9.\n",
    "gca = .5\n",
    "vca = 140.\n",
    "k1 = 15.\n",
    "eps = 5e-05\n",
    "kca = 22.5\n",
    "thetas = -39.\n",
    "sigmas = 8.\n",
    "# xp = 1.\n",
    "# i = 0.\n",
    "thetah = -39\n",
    "sigmah = -3.1\n",
    "thetan = -32.\n",
    "sigman = 8.\n",
    "taun0 = 1\n",
    "taun1 = 100.\n",
    "thn = -80.\n",
    "sigmant = -26.\n",
    "tauh0 = 1\n",
    "tauh1 = 500\n",
    "thh = -57.\n",
    "sigmaht = -3.\n",
    "phi = .75\n",
    "thetaa = -63.\n",
    "sigmaa = 7.8\n",
    "gt = .5\n",
    "phir = .5\n",
    "thetar = -67\n",
    "sigmar = -2.\n",
    "taur0 = 7.1\n",
    "taur1 = 17.5\n",
    "thr = 68.\n",
    "sigmart = -2.2\n",
    "\n",
    "alpha = 5\n",
    "beta = 1.\n",
    "ab = -30.\n",
    "gGtoS = 5\n",
    "vGtoS = -100\n",
    "thetab = .25\n",
    "sigmab = -.07\n",
    "\n",
    "\n",
    "\n",
    "t = np.arange(0, 1000, 0.01)\n",
    "x0 = init(-55.0)\n",
    "sol = odeint(ode_sys, x0, t)\n",
    "\n",
    "fig, ax = plt.subplots(1, figsize=(6, 3))\n",
    "ax.plot(t, sol[:, 0], c='k', lw=2)\n",
    "ax.set_xlabel(\"t [ms]\")\n",
    "ax.set_ylabel(\"V [mv]\")\n",
    "plt.tight_layout()\n",
    "# plt.savefig(\"stn.png\")\n",
    "plt.title(\"STN Cell\")\n",
    "plt.show()"
   ]
  },
  {
   "cell_type": "code",
   "execution_count": 7,
   "metadata": {},
   "outputs": [
    {
     "data": {
      "image/png": "[encoded data removed]",
      "text/plain": [
       "<Figure size 432x216 with 1 Axes>"
      ]
     },
     "metadata": {
      "needs_background": "light"
     },
     "output_type": "display_data"
    }
   ],
   "source": [
    "import numpy as np\n",
    "import pylab as plt\n",
    "from numpy import exp\n",
    "from scipy.integrate import odeint\n",
    "\n",
    "\n",
    "def ainfg(v): return 1/(1+exp(-(v-thag)/sigag))\n",
    "def sinfg(v): return 1/(1+exp(-(v-thsg)/sigsg))\n",
    "def rinfg(v): return 1/(1+exp(-(v-thrg)/sigrg))\n",
    "def minfg(v): return 1./(1.+exp(-(v-thmg)/sigmg))\n",
    "def ninfg(v): return 1./(1.+exp(-(v-thng)/signg))\n",
    "def taung(v): return taun0g+taun1g/(1+exp(-(v-thngt)/sng))\n",
    "def hinfg(v): return 1./(1.+exp(-(v-thhg)/sighg))\n",
    "def tauhg(v): return tauh0g+tauh1g/(1+exp(-(v-thhgt)/shg))\n",
    "\n",
    "def itg(vg,rg):return gtg*(ainfg(vg)**3)*rg*(vg-vcag)\n",
    "def inag(vg,hg):return gnag*(minfg(vg)**3)*hg*(vg-vnag)\n",
    "def ikg(vg,ng):return gkg*(ng**4)*(vg-vkg)\n",
    "def iahpg(vg,cag):return gahpg*(vg-vkg)*cag/(cag+k1g)\n",
    "def icag(vg):return gcag*((sinfg(vg))**2)*(vg-vcag)\n",
    "def ilg(vg):return glg*(vg-vlg)\n",
    "\n",
    "\n",
    "def ode_sys(x0, t):\n",
    "\n",
    "    vg, hg, ng, rg, cag = x0\n",
    "    dvg= -(itg(vg,rg)+inag(vg,hg)+ikg(vg,ng)+iahpg(vg,cag)+icag(vg)+ilg(vg)) +iapp # -isyngg(vg,stot)-isyng\n",
    "    dhg= phihg*(hinfg(vg)-hg)/tauhg(vg)\n",
    "    dng= phing*(ninfg(vg)-ng)/taung(vg)\n",
    "    drg= phig*(rinfg(vg)-rg)/taurg\n",
    "    dcag=epsg*(-icag(vg)-itg(vg,rg) - kcag*cag)\n",
    "    # dsg=alphag*(1-sg)*sinfg(vg+abg)-betag*sg\n",
    "\n",
    "    return [dvg, dhg, dng, drg, dcag]\n",
    "\n",
    "\n",
    "\n",
    "def init(vg):\n",
    "\n",
    "    hg = hinfg(vg)\n",
    "    ng = ninfg(vg)\n",
    "    rg = rinfg(vg)\n",
    "    cag = 0\n",
    "    # sg = 0\n",
    "\n",
    "    return [vg, hg, ng, rg, cag]\n",
    "\n",
    "\n",
    "gnag = 120.\n",
    "gkg = 30.\n",
    "gahpg = 30.\n",
    "gtg = .5\n",
    "gcag = .1\n",
    "glg = .1\n",
    "vnag = 55.\n",
    "vkg = -80.\n",
    "vcag = 120.\n",
    "vlg = -55.\n",
    "thag = -57.\n",
    "sigag = 2.\n",
    "thsg = -35.\n",
    "sigsg = 2.\n",
    "thrg = -70.\n",
    "sigrg = -2.\n",
    "taurg = 30.\n",
    "thmg = -37.\n",
    "sigmg = 10.\n",
    "thng = -50.\n",
    "signg = 14.\n",
    "taun0g = .05\n",
    "taun1g = .27\n",
    "thngt = -40\n",
    "sng = -12\n",
    "thhg = -58\n",
    "sighg = -12\n",
    "tauh0g = .05\n",
    "tauh1g = .27\n",
    "thhgt = -40\n",
    "shg = -12\n",
    "k1g = 30.\n",
    "kcag = 20.\n",
    "epsg = 0.0001\n",
    "phig = 1.\n",
    "phing = .05\n",
    "phihg = .05\n",
    "gGtoG = 1\n",
    "vGtoG = -100.\n",
    "gStoG = 0.03\n",
    "vStoG = 0\n",
    "alphag = 2\n",
    "betag = .08\n",
    "abg = -20\n",
    "iapp = -0.5\n",
    "\n",
    "t = np.arange(0, 1000, 0.01)\n",
    "x0 = init(-55.0)\n",
    "sol = odeint(ode_sys, x0, t)\n",
    "\n",
    "fig, ax = plt.subplots(1, figsize=(6, 3))\n",
    "ax.plot(t, sol[:, 0], c='k', lw=2)\n",
    "ax.set_xlabel(\"t [ms]\")\n",
    "ax.set_ylabel(\"V [mv]\")\n",
    "plt.tight_layout()\n",
    "plt.title(r\"GPe Cell, $I_{app}$=%.1f\" % iapp)\n",
    "plt.show()\n"
   ]
  },
  {
   "cell_type": "markdown",
   "metadata": {},
   "source": [
    "## NEST implementation"
   ]
  },
  {
   "cell_type": "markdown",
   "metadata": {},
   "source": [
    "![](terub_stn.png)"
   ]
  },
  {
   "cell_type": "markdown",
   "metadata": {},
   "source": [
    "![](terub_gpe.png)"
   ]
  },
  {
   "cell_type": "code",
   "execution_count": null,
   "metadata": {},
   "outputs": [],
   "source": []
  }
 ],
 "metadata": {
  "kernelspec": {
   "display_name": "Python 3.6.9 64-bit",
   "language": "python",
   "name": "python36964bit3ec0dbbd46ae448585f9bbd63312a519"
  },
  "language_info": {
   "codemirror_mode": {
    "name": "ipython",
    "version": 3
   },
   "file_extension": ".py",
   "mimetype": "text/x-python",
   "name": "python",
   "nbconvert_exporter": "python",
   "pygments_lexer": "ipython3",
   "version": "3.6.9"
  }
 },
 "nbformat": 4,
 "nbformat_minor": 4
}
