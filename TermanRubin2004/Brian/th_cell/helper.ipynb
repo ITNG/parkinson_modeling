{
 "cells": [
  {
   "cell_type": "code",
   "execution_count": 1,
   "metadata": {},
   "outputs": [],
   "source": [
    "import numpy as np \n",
    "import pylab as plt "
   ]
  },
  {
   "cell_type": "code",
   "execution_count": 2,
   "metadata": {},
   "outputs": [
    {
     "name": "stderr",
     "output_type": "stream",
     "text": [
      "/usr/local/lib/python3.6/dist-packages/ipykernel_launcher.py:3: RuntimeWarning: overflow encountered in exp\n",
      "  This is separate from the ipykernel package so we can avoid doing imports until\n"
     ]
    },
    {
     "data": {
      "image/png": "[encoded data removed]",
      "text/plain": [
       "<Figure size 432x288 with 1 Axes>"
      ]
     },
     "metadata": {
      "needs_background": "light"
     },
     "output_type": "display_data"
    }
   ],
   "source": [
    "v = np.arange(-70,70, 1)\n",
    "def H(v):\n",
    "    return (1./(1.+np.exp(-v/0.001)))\n",
    "\n",
    "plt.plot(v, H(v));\n",
    "plt.show()"
   ]
  },
  {
   "cell_type": "code",
   "execution_count": 3,
   "metadata": {},
   "outputs": [],
   "source": [
    "from brian2 import *"
   ]
  },
  {
   "cell_type": "code",
   "execution_count": 4,
   "metadata": {},
   "outputs": [],
   "source": [
    "ta = TimedArray([1, 2, 3, 4] * mV, dt=0.1*ms)"
   ]
  },
  {
   "cell_type": "code",
   "execution_count": 13,
   "metadata": {},
   "outputs": [
    {
     "name": "stdout",
     "output_type": "stream",
     "text": [
      "2. mV\n"
     ]
    }
   ],
   "source": [
    "print(ta(0.1*ms))"
   ]
  },
  {
   "cell_type": "code",
   "execution_count": 31,
   "metadata": {},
   "outputs": [
    {
     "name": "stdout",
     "output_type": "stream",
     "text": [
      "[50. 50. 50. 50. 50.  0.  0.  0.  0.  0. 50. 50. 50. 50. 50. 50. 50. 50.\n",
      " 50. 50.] mV\n"
     ]
    }
   ],
   "source": [
    "s = TimedArray([50.0, 0.0, 50.0] * mV, dt=5.*ms)\n",
    "G = NeuronGroup(1, 'v = s(t) : volt')\n",
    "mon = StateMonitor(G, 'v', record=True, dt=1*ms)\n",
    "net = Network(G, mon)\n",
    "net.run(20*ms) \n",
    "print(mon[0].v)"
   ]
  },
  {
   "cell_type": "code",
   "execution_count": 32,
   "metadata": {},
   "outputs": [
    {
     "name": "stdout",
     "output_type": "stream",
     "text": [
      "[50. 50. 50. 50. 50.  0.  0.  0.  0.  0. 50. 50. 50. 50. 50.  0.  0.  0.\n",
      "  0.  0.] mV\n"
     ]
    }
   ],
   "source": [
    "s = TimedArray(np.tile([50.0, 0.0], 2) * mV, dt=5.*ms)\n",
    "G = NeuronGroup(1, 'v = s(t) : volt')\n",
    "mon = StateMonitor(G, 'v', record=True, dt=1*ms)\n",
    "net = Network(G, mon)\n",
    "net.run(20*ms) \n",
    "print(mon[0].v)\n"
   ]
  },
  {
   "cell_type": "code",
   "execution_count": null,
   "metadata": {},
   "outputs": [],
   "source": []
  }
 ],
 "metadata": {
  "kernelspec": {
   "display_name": "Python 3.6.9 64-bit",
   "language": "python",
   "name": "python36964bit3ec0dbbd46ae448585f9bbd63312a519"
  },
  "language_info": {
   "codemirror_mode": {
    "name": "ipython",
    "version": 3
   },
   "file_extension": ".py",
   "mimetype": "text/x-python",
   "name": "python",
   "nbconvert_exporter": "python",
   "pygments_lexer": "ipython3",
   "version": "3.6.9"
  }
 },
 "nbformat": 4,
 "nbformat_minor": 4
}
